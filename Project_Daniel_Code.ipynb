{
 "cells": [
  {
   "cell_type": "code",
   "execution_count": 1,
   "metadata": {},
   "outputs": [],
   "source": [
    "import numpy as np\n",
    "import gurobipy as gp\n",
    "from scipy.optimize import minimize\n",
    "import pandas as pd"
   ]
  },
  {
   "cell_type": "code",
   "execution_count": 2,
   "metadata": {},
   "outputs": [],
   "source": [
    "train = pd.read_csv('training_data.csv')\n",
    "test = pd.read_csv('test_data.csv')"
   ]
  },
  {
   "cell_type": "code",
   "execution_count": 3,
   "metadata": {},
   "outputs": [
    {
     "data": {
      "text/html": [
       "<div>\n",
       "<style scoped>\n",
       "    .dataframe tbody tr th:only-of-type {\n",
       "        vertical-align: middle;\n",
       "    }\n",
       "\n",
       "    .dataframe tbody tr th {\n",
       "        vertical-align: top;\n",
       "    }\n",
       "\n",
       "    .dataframe thead th {\n",
       "        text-align: right;\n",
       "    }\n",
       "</style>\n",
       "<table border=\"1\" class=\"dataframe\">\n",
       "  <thead>\n",
       "    <tr style=\"text-align: right;\">\n",
       "      <th></th>\n",
       "      <th>y</th>\n",
       "      <th>X1</th>\n",
       "      <th>X2</th>\n",
       "      <th>X3</th>\n",
       "      <th>X4</th>\n",
       "      <th>X5</th>\n",
       "      <th>X6</th>\n",
       "      <th>X7</th>\n",
       "      <th>X8</th>\n",
       "      <th>X9</th>\n",
       "      <th>...</th>\n",
       "      <th>X41</th>\n",
       "      <th>X42</th>\n",
       "      <th>X43</th>\n",
       "      <th>X44</th>\n",
       "      <th>X45</th>\n",
       "      <th>X46</th>\n",
       "      <th>X47</th>\n",
       "      <th>X48</th>\n",
       "      <th>X49</th>\n",
       "      <th>X50</th>\n",
       "    </tr>\n",
       "  </thead>\n",
       "  <tbody>\n",
       "    <tr>\n",
       "      <th>0</th>\n",
       "      <td>8.536145</td>\n",
       "      <td>-1.535413</td>\n",
       "      <td>0.718888</td>\n",
       "      <td>-2.099149</td>\n",
       "      <td>-0.442842</td>\n",
       "      <td>-0.598978</td>\n",
       "      <td>-1.642574</td>\n",
       "      <td>0.207755</td>\n",
       "      <td>0.760642</td>\n",
       "      <td>0.575874</td>\n",
       "      <td>...</td>\n",
       "      <td>0.361866</td>\n",
       "      <td>1.793098</td>\n",
       "      <td>-0.631287</td>\n",
       "      <td>-0.061751</td>\n",
       "      <td>0.511049</td>\n",
       "      <td>0.488754</td>\n",
       "      <td>-0.612772</td>\n",
       "      <td>-0.471045</td>\n",
       "      <td>-1.139781</td>\n",
       "      <td>-0.260773</td>\n",
       "    </tr>\n",
       "    <tr>\n",
       "      <th>1</th>\n",
       "      <td>4.808344</td>\n",
       "      <td>-1.734609</td>\n",
       "      <td>0.551981</td>\n",
       "      <td>-2.147673</td>\n",
       "      <td>-1.552944</td>\n",
       "      <td>1.514910</td>\n",
       "      <td>-1.143972</td>\n",
       "      <td>0.737594</td>\n",
       "      <td>1.321243</td>\n",
       "      <td>-0.261684</td>\n",
       "      <td>...</td>\n",
       "      <td>-0.677985</td>\n",
       "      <td>-0.165679</td>\n",
       "      <td>0.065405</td>\n",
       "      <td>0.137162</td>\n",
       "      <td>1.258197</td>\n",
       "      <td>-0.120834</td>\n",
       "      <td>-1.564834</td>\n",
       "      <td>-0.242565</td>\n",
       "      <td>-0.001827</td>\n",
       "      <td>1.187453</td>\n",
       "    </tr>\n",
       "    <tr>\n",
       "      <th>2</th>\n",
       "      <td>-1.530427</td>\n",
       "      <td>0.097257</td>\n",
       "      <td>0.107634</td>\n",
       "      <td>-0.194222</td>\n",
       "      <td>0.335454</td>\n",
       "      <td>-0.408199</td>\n",
       "      <td>0.133265</td>\n",
       "      <td>0.706179</td>\n",
       "      <td>0.394971</td>\n",
       "      <td>-0.437116</td>\n",
       "      <td>...</td>\n",
       "      <td>1.108801</td>\n",
       "      <td>0.333791</td>\n",
       "      <td>0.282055</td>\n",
       "      <td>-1.086294</td>\n",
       "      <td>-0.115354</td>\n",
       "      <td>0.257857</td>\n",
       "      <td>-0.088838</td>\n",
       "      <td>-0.751231</td>\n",
       "      <td>1.450609</td>\n",
       "      <td>0.290593</td>\n",
       "    </tr>\n",
       "    <tr>\n",
       "      <th>3</th>\n",
       "      <td>-0.428243</td>\n",
       "      <td>-0.067702</td>\n",
       "      <td>0.557836</td>\n",
       "      <td>0.700848</td>\n",
       "      <td>-1.121376</td>\n",
       "      <td>1.722274</td>\n",
       "      <td>0.613525</td>\n",
       "      <td>0.700909</td>\n",
       "      <td>-0.417976</td>\n",
       "      <td>1.069749</td>\n",
       "      <td>...</td>\n",
       "      <td>0.692511</td>\n",
       "      <td>-0.350990</td>\n",
       "      <td>0.624558</td>\n",
       "      <td>0.434520</td>\n",
       "      <td>-0.367409</td>\n",
       "      <td>-1.144681</td>\n",
       "      <td>-0.136524</td>\n",
       "      <td>-0.557214</td>\n",
       "      <td>0.416303</td>\n",
       "      <td>0.484495</td>\n",
       "    </tr>\n",
       "    <tr>\n",
       "      <th>4</th>\n",
       "      <td>0.566694</td>\n",
       "      <td>0.488729</td>\n",
       "      <td>0.211483</td>\n",
       "      <td>0.568389</td>\n",
       "      <td>0.646837</td>\n",
       "      <td>0.163868</td>\n",
       "      <td>-0.002152</td>\n",
       "      <td>0.125137</td>\n",
       "      <td>0.493571</td>\n",
       "      <td>1.705451</td>\n",
       "      <td>...</td>\n",
       "      <td>-0.000605</td>\n",
       "      <td>1.075280</td>\n",
       "      <td>0.182281</td>\n",
       "      <td>-1.138458</td>\n",
       "      <td>0.106092</td>\n",
       "      <td>0.544640</td>\n",
       "      <td>-0.383487</td>\n",
       "      <td>-0.425773</td>\n",
       "      <td>2.667647</td>\n",
       "      <td>-0.050748</td>\n",
       "    </tr>\n",
       "  </tbody>\n",
       "</table>\n",
       "<p>5 rows × 51 columns</p>\n",
       "</div>"
      ],
      "text/plain": [
       "          y        X1        X2        X3        X4        X5        X6  \\\n",
       "0  8.536145 -1.535413  0.718888 -2.099149 -0.442842 -0.598978 -1.642574   \n",
       "1  4.808344 -1.734609  0.551981 -2.147673 -1.552944  1.514910 -1.143972   \n",
       "2 -1.530427  0.097257  0.107634 -0.194222  0.335454 -0.408199  0.133265   \n",
       "3 -0.428243 -0.067702  0.557836  0.700848 -1.121376  1.722274  0.613525   \n",
       "4  0.566694  0.488729  0.211483  0.568389  0.646837  0.163868 -0.002152   \n",
       "\n",
       "         X7        X8        X9  ...       X41       X42       X43       X44  \\\n",
       "0  0.207755  0.760642  0.575874  ...  0.361866  1.793098 -0.631287 -0.061751   \n",
       "1  0.737594  1.321243 -0.261684  ... -0.677985 -0.165679  0.065405  0.137162   \n",
       "2  0.706179  0.394971 -0.437116  ...  1.108801  0.333791  0.282055 -1.086294   \n",
       "3  0.700909 -0.417976  1.069749  ...  0.692511 -0.350990  0.624558  0.434520   \n",
       "4  0.125137  0.493571  1.705451  ... -0.000605  1.075280  0.182281 -1.138458   \n",
       "\n",
       "        X45       X46       X47       X48       X49       X50  \n",
       "0  0.511049  0.488754 -0.612772 -0.471045 -1.139781 -0.260773  \n",
       "1  1.258197 -0.120834 -1.564834 -0.242565 -0.001827  1.187453  \n",
       "2 -0.115354  0.257857 -0.088838 -0.751231  1.450609  0.290593  \n",
       "3 -0.367409 -1.144681 -0.136524 -0.557214  0.416303  0.484495  \n",
       "4  0.106092  0.544640 -0.383487 -0.425773  2.667647 -0.050748  \n",
       "\n",
       "[5 rows x 51 columns]"
      ]
     },
     "execution_count": 3,
     "metadata": {},
     "output_type": "execute_result"
    }
   ],
   "source": [
    "train.head()"
   ]
  },
  {
   "cell_type": "code",
   "execution_count": null,
   "metadata": {},
   "outputs": [],
   "source": [
    "#decision variables: betas 0-50 (C) \n",
    "#decision variables: z 1-50 (B)\n",
    "#obj: min "
   ]
  },
  {
   "cell_type": "code",
   "execution_count": 45,
   "metadata": {},
   "outputs": [],
   "source": [
    "def MIQP_variable(X,y,M,k):\n",
    "    \n",
    "    m = X.shape[1]-1\n",
    "    n=X.shape[0]\n",
    "    \n",
    "    x0 = np.ones((n,1))\n",
    "    X = np.asmatrix(np.hstack((x0,X[:,1:])))\n",
    "    \n",
    "    Q = np.zeros((2*m+1,2*m+1))\n",
    "    Q[0:m+1,0:m+1]=X.T@X\n",
    "    Y = np.zeros(2*m+1)\n",
    "    Y[0:m+1]=-2*y@X\n",
    "\n",
    "    #constraints\n",
    "    A = np.zeros((2*m+1,2*m+1))\n",
    "    b = np.zeros(2*m+1)\n",
    "    sense = np.array(['']*(2*m+1))\n",
    "    \n",
    "    #sum z ≤ k \n",
    "    A[0,m+1:]=1\n",
    "    b[0]=k\n",
    "    sense[0]=\"<\"\n",
    "    \n",
    "    #M\n",
    "    for i in range(1,m+1):\n",
    "        A[i,[i,m+i]]=[1,-M]\n",
    "        b[i]=0\n",
    "        sense[i]=\"<\"\n",
    "    \n",
    "        A[i+m,[i,m+i]]=[1,M]\n",
    "        b[i+m]=0\n",
    "        sense[i+m]=\">\"\n",
    "   \n",
    "    QPMod = gp.Model()\n",
    "    QPMod_x = QPMod.addMVar(2*m+1,vtype=['C']*(m+1)+['B']*m,lb=np.array([-np.inf]*(m + 1) + [0]*m))\n",
    "    QPMod_con = QPMod.addMConstrs(A, QPMod_x, sense, b)\n",
    "    QPMod.setMObjective(Q,Y,0,sense=gp.GRB.MINIMIZE)\n",
    "    QPMod.Params.OutputFlag = 0 \n",
    "    QPMod.Params.TimeLimit = 60\n",
    "\n",
    "    QPMod.optimize()\n",
    "    \n",
    "    return QPMod"
   ]
  },
  {
   "cell_type": "code",
   "execution_count": 21,
   "metadata": {},
   "outputs": [],
   "source": [
    "# CV"
   ]
  },
  {
   "cell_type": "code",
   "execution_count": 44,
   "metadata": {},
   "outputs": [],
   "source": [
    "def cross_validation(data,K_num):\n",
    "    cv_list = []\n",
    "    \n",
    "    kf = KFold(n_splits=K_num)\n",
    "    # getting train and validation index\n",
    "    for train_idx, val_idx in kf.split(data):\n",
    "        cv_list.append((train_idx, val_idx))\n",
    "    \n",
    "    return cv_list"
   ]
  },
  {
   "cell_type": "code",
   "execution_count": 32,
   "metadata": {},
   "outputs": [],
   "source": [
    "def get_sum_squared_error(y_true,y_pred):\n",
    "    return (y_true-y_pred).T @ (y_true-y_pred)"
   ]
  },
  {
   "cell_type": "code",
   "execution_count": 24,
   "metadata": {},
   "outputs": [],
   "source": [
    "#data setup\n",
    "X_train = np.zeros((train.shape[0], train.shape[1]))\n",
    "X_train[:, 0] = 1\n",
    "X_train[:, 1:] = train.iloc[:, 1:].values\n",
    "y_train = train['y'].values"
   ]
  },
  {
   "cell_type": "code",
   "execution_count": 46,
   "metadata": {},
   "outputs": [
    {
     "name": "stderr",
     "output_type": "stream",
     "text": [
      "/opt/anaconda3/lib/python3.7/site-packages/ipykernel_launcher.py:17: DeprecationWarning: Deprecated, use Model.addMConstr() instead\n"
     ]
    }
   ],
   "source": [
    "#MIQP\n",
    "sum_error = []\n",
    "K_list = np.arange(5,51,5) # list of k\n",
    "cv_index_list = cross_validation(X_train,10) #create 10 CV\n",
    "\n",
    "results_MIQP = pd.DataFrame(data=None, columns=['k', 'cross_val_error'])\n",
    "beta_lists = []\n",
    "\n",
    "for K in K_list:\n",
    "    error = []\n",
    "    beta_list = []\n",
    "    \n",
    "    for train_index, val_index in cv_index_list:\n",
    "        x, y = X_train[train_index], y_train[train_index]\n",
    "        x_val, y_val = X_train[val_index], y_train[val_index]\n",
    "        \n",
    "        MIQPModel = MIQP_variable(x,y,50,K)\n",
    "        beta_list.append(MIQPModel.x[:x.shape[1]])\n",
    "        \n",
    "        predicted_y = np.array(MIQPModel.x[:x.shape[1]])@x_val.T\n",
    "        error.append(get_sum_squared_error(y_val,predicted_y))\n",
    "    \n",
    "    sum_error.append(np.sum(error))\n",
    "    beta_lists.append(beta_list)\n",
    "\n",
    "results_MIQP['k'] = K_list\n",
    "results_MIQP['cross_val_error'] = sum_error\n",
    "results_MIQP.to_csv('results_MIQP.csv')\n"
   ]
  },
  {
   "cell_type": "code",
   "execution_count": null,
   "metadata": {},
   "outputs": [],
   "source": [
    "#((y-model.x[:m+1]@X.T).T @ (y-model.x[:m+1]@X.T))[1]"
   ]
  },
  {
   "cell_type": "code",
   "execution_count": 47,
   "metadata": {},
   "outputs": [
    {
     "data": {
      "text/html": [
       "<div>\n",
       "<style scoped>\n",
       "    .dataframe tbody tr th:only-of-type {\n",
       "        vertical-align: middle;\n",
       "    }\n",
       "\n",
       "    .dataframe tbody tr th {\n",
       "        vertical-align: top;\n",
       "    }\n",
       "\n",
       "    .dataframe thead th {\n",
       "        text-align: right;\n",
       "    }\n",
       "</style>\n",
       "<table border=\"1\" class=\"dataframe\">\n",
       "  <thead>\n",
       "    <tr style=\"text-align: right;\">\n",
       "      <th></th>\n",
       "      <th>k</th>\n",
       "      <th>cross_val_error</th>\n",
       "    </tr>\n",
       "  </thead>\n",
       "  <tbody>\n",
       "    <tr>\n",
       "      <th>0</th>\n",
       "      <td>5</td>\n",
       "      <td>917.479061</td>\n",
       "    </tr>\n",
       "    <tr>\n",
       "      <th>1</th>\n",
       "      <td>10</td>\n",
       "      <td>724.787631</td>\n",
       "    </tr>\n",
       "    <tr>\n",
       "      <th>2</th>\n",
       "      <td>15</td>\n",
       "      <td>763.721994</td>\n",
       "    </tr>\n",
       "    <tr>\n",
       "      <th>3</th>\n",
       "      <td>20</td>\n",
       "      <td>796.621825</td>\n",
       "    </tr>\n",
       "    <tr>\n",
       "      <th>4</th>\n",
       "      <td>25</td>\n",
       "      <td>781.250142</td>\n",
       "    </tr>\n",
       "    <tr>\n",
       "      <th>5</th>\n",
       "      <td>30</td>\n",
       "      <td>830.082402</td>\n",
       "    </tr>\n",
       "    <tr>\n",
       "      <th>6</th>\n",
       "      <td>35</td>\n",
       "      <td>831.104008</td>\n",
       "    </tr>\n",
       "    <tr>\n",
       "      <th>7</th>\n",
       "      <td>40</td>\n",
       "      <td>846.940858</td>\n",
       "    </tr>\n",
       "    <tr>\n",
       "      <th>8</th>\n",
       "      <td>45</td>\n",
       "      <td>846.958615</td>\n",
       "    </tr>\n",
       "    <tr>\n",
       "      <th>9</th>\n",
       "      <td>50</td>\n",
       "      <td>847.184545</td>\n",
       "    </tr>\n",
       "  </tbody>\n",
       "</table>\n",
       "</div>"
      ],
      "text/plain": [
       "    k  cross_val_error\n",
       "0   5       917.479061\n",
       "1  10       724.787631\n",
       "2  15       763.721994\n",
       "3  20       796.621825\n",
       "4  25       781.250142\n",
       "5  30       830.082402\n",
       "6  35       831.104008\n",
       "7  40       846.940858\n",
       "8  45       846.958615\n",
       "9  50       847.184545"
      ]
     },
     "execution_count": 47,
     "metadata": {},
     "output_type": "execute_result"
    }
   ],
   "source": [
    "results_MIQP"
   ]
  },
  {
   "cell_type": "code",
   "execution_count": 49,
   "metadata": {},
   "outputs": [],
   "source": [
    "#with test data"
   ]
  },
  {
   "cell_type": "code",
   "execution_count": 50,
   "metadata": {},
   "outputs": [],
   "source": [
    "X_test = np.zeros((test.shape[0], test.shape[1]))\n",
    "X_test[:, 0] = 1\n",
    "X_test[:, 1:] = test.iloc[:, 1:].values\n",
    "y_test = test['y'].values"
   ]
  },
  {
   "cell_type": "code",
   "execution_count": 65,
   "metadata": {},
   "outputs": [
    {
     "name": "stderr",
     "output_type": "stream",
     "text": [
      "/opt/anaconda3/lib/python3.7/site-packages/ipykernel_launcher.py:1: DeprecationWarning: Deprecated, use Model.addMConstr() instead\n",
      "  \"\"\"Entry point for launching an IPython kernel.\n"
     ]
    }
   ],
   "source": [
    "MIQPModel = MIQP_variable(X_train,y_train,50,10)\n",
    "test_y_pred = np.array(MIQPModel.x[:x.shape[1]])@X_test.T\n",
    "test_error = get_sum_squared_error(y_test,test_y_pred)\n",
    "test_results_MIQP = pd.DataFrame({'y_true': y_test, 'y_predicted': test_y_pred})\n"
   ]
  },
  {
   "cell_type": "code",
   "execution_count": 72,
   "metadata": {},
   "outputs": [
    {
     "ename": "TypeError",
     "evalue": "list indices must be integers or slices, not list",
     "output_type": "error",
     "traceback": [
      "\u001b[0;31m---------------------------------------------------------------------------\u001b[0m",
      "\u001b[0;31mTypeError\u001b[0m                                 Traceback (most recent call last)",
      "\u001b[0;32m<ipython-input-72-c4c2dfdfb369>\u001b[0m in \u001b[0;36m<module>\u001b[0;34m\u001b[0m\n\u001b[0;32m----> 1\u001b[0;31m \u001b[0mMIQPModel\u001b[0m\u001b[0;34m.\u001b[0m\u001b[0mx\u001b[0m\u001b[0;34m[\u001b[0m\u001b[0;34m[\u001b[0m\u001b[0;36m0\u001b[0m\u001b[0;34m,\u001b[0m \u001b[0;36m9\u001b[0m\u001b[0;34m,\u001b[0m \u001b[0;36m15\u001b[0m\u001b[0;34m,\u001b[0m \u001b[0;36m16\u001b[0m\u001b[0;34m,\u001b[0m \u001b[0;36m23\u001b[0m\u001b[0;34m,\u001b[0m \u001b[0;36m24\u001b[0m\u001b[0;34m,\u001b[0m \u001b[0;36m26\u001b[0m\u001b[0;34m,\u001b[0m \u001b[0;36m34\u001b[0m\u001b[0;34m,\u001b[0m \u001b[0;36m45\u001b[0m\u001b[0;34m,\u001b[0m \u001b[0;36m47\u001b[0m\u001b[0;34m,\u001b[0m \u001b[0;36m48\u001b[0m\u001b[0;34m]\u001b[0m\u001b[0;34m]\u001b[0m\u001b[0;34m\u001b[0m\u001b[0;34m\u001b[0m\u001b[0m\n\u001b[0m",
      "\u001b[0;31mTypeError\u001b[0m: list indices must be integers or slices, not list"
     ]
    }
   ],
   "source": [
    "MIQPModel.x"
   ]
  },
  {
   "cell_type": "code",
   "execution_count": 73,
   "metadata": {},
   "outputs": [],
   "source": [
    "MIQP_test_betas = []\n",
    "for idx in res[0:11]:\n",
    "    MIQP_test_betas.append(MIQPModel.x[idx])"
   ]
  },
  {
   "cell_type": "code",
   "execution_count": 67,
   "metadata": {},
   "outputs": [],
   "source": [
    "res = [idx for idx, val in enumerate(MIQPModel.x) if val != 0]"
   ]
  },
  {
   "cell_type": "code",
   "execution_count": 70,
   "metadata": {},
   "outputs": [
    {
     "data": {
      "text/plain": [
       "[0, 9, 15, 16, 23, 24, 26, 34, 45, 47, 48]"
      ]
     },
     "execution_count": 70,
     "metadata": {},
     "output_type": "execute_result"
    }
   ],
   "source": [
    "res[0:11]"
   ]
  },
  {
   "cell_type": "code",
   "execution_count": 74,
   "metadata": {},
   "outputs": [
    {
     "data": {
      "text/plain": [
       "[0.9725240765514854,\n",
       " -2.308207261938351,\n",
       " -0.5183261233652071,\n",
       " -0.2041620134665432,\n",
       " -1.5591431785888525,\n",
       " 0.8669733628924494,\n",
       " -1.3119194151226843,\n",
       " 0.408165303305882,\n",
       " 1.781474891076474,\n",
       " 0.8873829240125524,\n",
       " -0.28229212764205913]"
      ]
     },
     "execution_count": 74,
     "metadata": {},
     "output_type": "execute_result"
    }
   ],
   "source": [
    "MIQP_test_betas"
   ]
  },
  {
   "cell_type": "code",
   "execution_count": 83,
   "metadata": {},
   "outputs": [
    {
     "data": {
      "text/html": [
       "<div>\n",
       "<style scoped>\n",
       "    .dataframe tbody tr th:only-of-type {\n",
       "        vertical-align: middle;\n",
       "    }\n",
       "\n",
       "    .dataframe tbody tr th {\n",
       "        vertical-align: top;\n",
       "    }\n",
       "\n",
       "    .dataframe thead th {\n",
       "        text-align: right;\n",
       "    }\n",
       "</style>\n",
       "<table border=\"1\" class=\"dataframe\">\n",
       "  <thead>\n",
       "    <tr style=\"text-align: right;\">\n",
       "      <th>index</th>\n",
       "      <th>0.0</th>\n",
       "      <th>9.0</th>\n",
       "      <th>15.0</th>\n",
       "      <th>16.0</th>\n",
       "      <th>23.0</th>\n",
       "      <th>24.0</th>\n",
       "      <th>26.0</th>\n",
       "      <th>34.0</th>\n",
       "      <th>45.0</th>\n",
       "      <th>47.0</th>\n",
       "      <th>48.0</th>\n",
       "    </tr>\n",
       "  </thead>\n",
       "  <tbody>\n",
       "    <tr>\n",
       "      <th>coefficient</th>\n",
       "      <td>0.972524</td>\n",
       "      <td>-2.308207</td>\n",
       "      <td>-0.518326</td>\n",
       "      <td>-0.204162</td>\n",
       "      <td>-1.559143</td>\n",
       "      <td>0.866973</td>\n",
       "      <td>-1.311919</td>\n",
       "      <td>0.408165</td>\n",
       "      <td>1.781475</td>\n",
       "      <td>0.887383</td>\n",
       "      <td>-0.282292</td>\n",
       "    </tr>\n",
       "  </tbody>\n",
       "</table>\n",
       "</div>"
      ],
      "text/plain": [
       "index            0.0       9.0       15.0      16.0      23.0      24.0  \\\n",
       "coefficient  0.972524 -2.308207 -0.518326 -0.204162 -1.559143  0.866973   \n",
       "\n",
       "index            26.0      34.0      45.0      47.0      48.0  \n",
       "coefficient -1.311919  0.408165  1.781475  0.887383 -0.282292  "
      ]
     },
     "execution_count": 83,
     "metadata": {},
     "output_type": "execute_result"
    }
   ],
   "source": [
    "betas_MIQP_test = pd.DataFrame(data=None, columns=['index', 'coefficient'])\n",
    "betas_MIQP_test['index']=res[0:11]\n",
    "betas_MIQP_test['coefficient']=MIQP_test_betas\n",
    "betas_MIQP_test = betas_MIQP_test.T\n",
    "betas_MIQP_test.columns = betas_MIQP_test.iloc[0]\n",
    "betas_MIQP_test = betas_MIQP_test[1:]\n",
    "betas_MIQP_test\n"
   ]
  },
  {
   "cell_type": "code",
   "execution_count": 38,
   "metadata": {},
   "outputs": [],
   "source": [
    "# LASSO\n",
    "from sklearn.linear_model import Lasso\n",
    "from sklearn.model_selection import KFold"
   ]
  },
  {
   "cell_type": "code",
   "execution_count": 42,
   "metadata": {},
   "outputs": [
    {
     "name": "stderr",
     "output_type": "stream",
     "text": [
      "/opt/anaconda3/lib/python3.7/site-packages/sklearn/linear_model/_coordinate_descent.py:648: ConvergenceWarning: Objective did not converge. You might want to increase the number of iterations, check the scale of the features or consider increasing regularisation. Duality gap: 1.128e+02, tolerance: 4.374e-01\n",
      "  coef_, l1_reg, l2_reg, X, y, max_iter, tol, rng, random, positive\n",
      "/opt/anaconda3/lib/python3.7/site-packages/sklearn/linear_model/_coordinate_descent.py:648: ConvergenceWarning: Objective did not converge. You might want to increase the number of iterations, check the scale of the features or consider increasing regularisation. Duality gap: 8.260e+01, tolerance: 4.528e-01\n",
      "  coef_, l1_reg, l2_reg, X, y, max_iter, tol, rng, random, positive\n",
      "/opt/anaconda3/lib/python3.7/site-packages/sklearn/linear_model/_coordinate_descent.py:648: ConvergenceWarning: Objective did not converge. You might want to increase the number of iterations, check the scale of the features or consider increasing regularisation. Duality gap: 4.080e+01, tolerance: 4.509e-01\n",
      "  coef_, l1_reg, l2_reg, X, y, max_iter, tol, rng, random, positive\n",
      "/opt/anaconda3/lib/python3.7/site-packages/sklearn/linear_model/_coordinate_descent.py:648: ConvergenceWarning: Objective did not converge. You might want to increase the number of iterations, check the scale of the features or consider increasing regularisation. Duality gap: 4.755e+01, tolerance: 4.353e-01\n",
      "  coef_, l1_reg, l2_reg, X, y, max_iter, tol, rng, random, positive\n",
      "/opt/anaconda3/lib/python3.7/site-packages/sklearn/linear_model/_coordinate_descent.py:648: ConvergenceWarning: Objective did not converge. You might want to increase the number of iterations, check the scale of the features or consider increasing regularisation. Duality gap: 9.984e+01, tolerance: 4.533e-01\n",
      "  coef_, l1_reg, l2_reg, X, y, max_iter, tol, rng, random, positive\n",
      "/opt/anaconda3/lib/python3.7/site-packages/sklearn/linear_model/_coordinate_descent.py:648: ConvergenceWarning: Objective did not converge. You might want to increase the number of iterations, check the scale of the features or consider increasing regularisation. Duality gap: 1.036e+02, tolerance: 4.561e-01\n",
      "  coef_, l1_reg, l2_reg, X, y, max_iter, tol, rng, random, positive\n",
      "/opt/anaconda3/lib/python3.7/site-packages/sklearn/linear_model/_coordinate_descent.py:648: ConvergenceWarning: Objective did not converge. You might want to increase the number of iterations, check the scale of the features or consider increasing regularisation. Duality gap: 3.429e+01, tolerance: 4.495e-01\n",
      "  coef_, l1_reg, l2_reg, X, y, max_iter, tol, rng, random, positive\n",
      "/opt/anaconda3/lib/python3.7/site-packages/sklearn/linear_model/_coordinate_descent.py:648: ConvergenceWarning: Objective did not converge. You might want to increase the number of iterations, check the scale of the features or consider increasing regularisation. Duality gap: 1.436e+01, tolerance: 4.258e-01\n",
      "  coef_, l1_reg, l2_reg, X, y, max_iter, tol, rng, random, positive\n",
      "/opt/anaconda3/lib/python3.7/site-packages/sklearn/linear_model/_coordinate_descent.py:648: ConvergenceWarning: Objective did not converge. You might want to increase the number of iterations, check the scale of the features or consider increasing regularisation. Duality gap: 8.767e+01, tolerance: 4.227e-01\n",
      "  coef_, l1_reg, l2_reg, X, y, max_iter, tol, rng, random, positive\n",
      "/opt/anaconda3/lib/python3.7/site-packages/sklearn/linear_model/_coordinate_descent.py:648: ConvergenceWarning: Objective did not converge. You might want to increase the number of iterations, check the scale of the features or consider increasing regularisation. Duality gap: 2.466e+01, tolerance: 4.386e-01\n",
      "  coef_, l1_reg, l2_reg, X, y, max_iter, tol, rng, random, positive\n",
      "/opt/anaconda3/lib/python3.7/site-packages/sklearn/linear_model/_coordinate_descent.py:648: ConvergenceWarning: Objective did not converge. You might want to increase the number of iterations, check the scale of the features or consider increasing regularisation. Duality gap: 6.409e+00, tolerance: 4.374e-01\n",
      "  coef_, l1_reg, l2_reg, X, y, max_iter, tol, rng, random, positive\n",
      "/opt/anaconda3/lib/python3.7/site-packages/sklearn/linear_model/_coordinate_descent.py:648: ConvergenceWarning: Objective did not converge. You might want to increase the number of iterations, check the scale of the features or consider increasing regularisation. Duality gap: 2.934e+00, tolerance: 4.528e-01\n",
      "  coef_, l1_reg, l2_reg, X, y, max_iter, tol, rng, random, positive\n",
      "/opt/anaconda3/lib/python3.7/site-packages/sklearn/linear_model/_coordinate_descent.py:648: ConvergenceWarning: Objective did not converge. You might want to increase the number of iterations, check the scale of the features or consider increasing regularisation. Duality gap: 8.667e-01, tolerance: 4.509e-01\n",
      "  coef_, l1_reg, l2_reg, X, y, max_iter, tol, rng, random, positive\n",
      "/opt/anaconda3/lib/python3.7/site-packages/sklearn/linear_model/_coordinate_descent.py:648: ConvergenceWarning: Objective did not converge. You might want to increase the number of iterations, check the scale of the features or consider increasing regularisation. Duality gap: 1.076e+00, tolerance: 4.353e-01\n",
      "  coef_, l1_reg, l2_reg, X, y, max_iter, tol, rng, random, positive\n",
      "/opt/anaconda3/lib/python3.7/site-packages/sklearn/linear_model/_coordinate_descent.py:648: ConvergenceWarning: Objective did not converge. You might want to increase the number of iterations, check the scale of the features or consider increasing regularisation. Duality gap: 4.437e+00, tolerance: 4.533e-01\n",
      "  coef_, l1_reg, l2_reg, X, y, max_iter, tol, rng, random, positive\n",
      "/opt/anaconda3/lib/python3.7/site-packages/sklearn/linear_model/_coordinate_descent.py:648: ConvergenceWarning: Objective did not converge. You might want to increase the number of iterations, check the scale of the features or consider increasing regularisation. Duality gap: 5.018e+00, tolerance: 4.561e-01\n",
      "  coef_, l1_reg, l2_reg, X, y, max_iter, tol, rng, random, positive\n",
      "/opt/anaconda3/lib/python3.7/site-packages/sklearn/linear_model/_coordinate_descent.py:648: ConvergenceWarning: Objective did not converge. You might want to increase the number of iterations, check the scale of the features or consider increasing regularisation. Duality gap: 4.239e+00, tolerance: 4.227e-01\n",
      "  coef_, l1_reg, l2_reg, X, y, max_iter, tol, rng, random, positive\n"
     ]
    }
   ],
   "source": [
    "sum_error2 = []\n",
    "lambda_list = [0.00001,0.0001,0.001,0.01,0.1,1,10,100,1000]\n",
    "results_lasso = pd.DataFrame(data=None, columns=['lambda', 'cross_val_error'])\n",
    "beta_lists2 = []\n",
    "cv_index_list = cross_validation(X_train,10)\n",
    "\n",
    "for Lambda in lambda_list:\n",
    "    error = []\n",
    "    beta_list = []\n",
    "    \n",
    "    for train_index, val_index in cross_val_list:\n",
    "        x, y = X_train[train_index], y_train[train_index]\n",
    "        x_val, y_val = X_train[val_index], y_train[val_index]\n",
    "        \n",
    "        lasso = Lasso(alpha=Lambda)\n",
    "        lasso.fit(x, y)\n",
    "        \n",
    "        predicted_y = lasso.predict(x_val)\n",
    "        error.append(get_sum_squared_error(y_val,predicted_y))\n",
    "    \n",
    "    sum_error2.append(np.sum(error))\n",
    "    beta_lists2.append(beta_list)\n",
    "\n",
    "results_lasso['lambda'] = lambda_list\n",
    "results_lasso['cross_val_error'] = sum_error2\n",
    "results_lasso.to_csv('results_lasso.csv')\n"
   ]
  },
  {
   "cell_type": "code",
   "execution_count": 43,
   "metadata": {},
   "outputs": [
    {
     "data": {
      "text/html": [
       "<div>\n",
       "<style scoped>\n",
       "    .dataframe tbody tr th:only-of-type {\n",
       "        vertical-align: middle;\n",
       "    }\n",
       "\n",
       "    .dataframe tbody tr th {\n",
       "        vertical-align: top;\n",
       "    }\n",
       "\n",
       "    .dataframe thead th {\n",
       "        text-align: right;\n",
       "    }\n",
       "</style>\n",
       "<table border=\"1\" class=\"dataframe\">\n",
       "  <thead>\n",
       "    <tr style=\"text-align: right;\">\n",
       "      <th></th>\n",
       "      <th>lambda</th>\n",
       "      <th>cross_val_error</th>\n",
       "    </tr>\n",
       "  </thead>\n",
       "  <tbody>\n",
       "    <tr>\n",
       "      <th>0</th>\n",
       "      <td>0.00001</td>\n",
       "      <td>847.002294</td>\n",
       "    </tr>\n",
       "    <tr>\n",
       "      <th>1</th>\n",
       "      <td>0.00010</td>\n",
       "      <td>845.983748</td>\n",
       "    </tr>\n",
       "    <tr>\n",
       "      <th>2</th>\n",
       "      <td>0.00100</td>\n",
       "      <td>836.904951</td>\n",
       "    </tr>\n",
       "    <tr>\n",
       "      <th>3</th>\n",
       "      <td>0.01000</td>\n",
       "      <td>778.400013</td>\n",
       "    </tr>\n",
       "    <tr>\n",
       "      <th>4</th>\n",
       "      <td>0.10000</td>\n",
       "      <td>699.644522</td>\n",
       "    </tr>\n",
       "    <tr>\n",
       "      <th>5</th>\n",
       "      <td>1.00000</td>\n",
       "      <td>2106.081819</td>\n",
       "    </tr>\n",
       "    <tr>\n",
       "      <th>6</th>\n",
       "      <td>10.00000</td>\n",
       "      <td>4943.255428</td>\n",
       "    </tr>\n",
       "    <tr>\n",
       "      <th>7</th>\n",
       "      <td>100.00000</td>\n",
       "      <td>4943.255428</td>\n",
       "    </tr>\n",
       "    <tr>\n",
       "      <th>8</th>\n",
       "      <td>1000.00000</td>\n",
       "      <td>4943.255428</td>\n",
       "    </tr>\n",
       "  </tbody>\n",
       "</table>\n",
       "</div>"
      ],
      "text/plain": [
       "       lambda  cross_val_error\n",
       "0     0.00001       847.002294\n",
       "1     0.00010       845.983748\n",
       "2     0.00100       836.904951\n",
       "3     0.01000       778.400013\n",
       "4     0.10000       699.644522\n",
       "5     1.00000      2106.081819\n",
       "6    10.00000      4943.255428\n",
       "7   100.00000      4943.255428\n",
       "8  1000.00000      4943.255428"
      ]
     },
     "execution_count": 43,
     "metadata": {},
     "output_type": "execute_result"
    }
   ],
   "source": [
    "results_lasso"
   ]
  },
  {
   "cell_type": "code",
   "execution_count": 75,
   "metadata": {},
   "outputs": [],
   "source": [
    "lasso = Lasso(alpha=0.0764)\n",
    "lasso.fit(X_train, y_train)\n",
    "y_pred_lasso = lasso.predict(X_test)"
   ]
  },
  {
   "cell_type": "code",
   "execution_count": 76,
   "metadata": {},
   "outputs": [
    {
     "data": {
      "text/plain": [
       "116.82719822762621"
      ]
     },
     "execution_count": 76,
     "metadata": {},
     "output_type": "execute_result"
    }
   ],
   "source": [
    "test_error"
   ]
  },
  {
   "cell_type": "code",
   "execution_count": 84,
   "metadata": {},
   "outputs": [],
   "source": [
    "test_error = get_sum_squared_error(y_test,y_pred_lasso)\n",
    "test_results_lasso = pd.DataFrame({'y_true': y_test, 'y_predicted': y_pred_lasso})\n"
   ]
  },
  {
   "cell_type": "code",
   "execution_count": 78,
   "metadata": {},
   "outputs": [
    {
     "data": {
      "text/plain": [
       "array([ 0.        , -0.        , -0.        ,  0.        ,  0.        ,\n",
       "       -0.        ,  0.        , -0.        , -0.        , -2.16053214,\n",
       "        0.        , -0.0596295 , -0.        , -0.        , -0.        ,\n",
       "       -0.4191218 , -0.19325213,  0.        ,  0.        , -0.        ,\n",
       "        0.        ,  0.        , -0.19518029, -1.36387765,  0.74258542,\n",
       "       -0.        , -1.30481221, -0.        ,  0.        ,  0.05798716,\n",
       "        0.        , -0.        ,  0.        , -0.09737622,  0.2833979 ,\n",
       "        0.        ,  0.        ,  0.        ,  0.        , -0.23156121,\n",
       "        0.        , -0.        ,  0.        ,  0.        ,  0.03076854,\n",
       "        1.56360851, -0.02158588,  0.6999003 , -0.0928903 ,  0.        ,\n",
       "        0.        ])"
      ]
     },
     "execution_count": 78,
     "metadata": {},
     "output_type": "execute_result"
    }
   ],
   "source": [
    "lasso.coef_"
   ]
  },
  {
   "cell_type": "code",
   "execution_count": 85,
   "metadata": {},
   "outputs": [],
   "source": [
    "res = [idx for idx, val in enumerate(lasso.coef_) if val != 0]"
   ]
  },
  {
   "cell_type": "code",
   "execution_count": 87,
   "metadata": {},
   "outputs": [],
   "source": [
    "Lasso_test_betas = []\n",
    "for idx in res:\n",
    "    Lasso_test_betas.append(lasso.coef_[idx])"
   ]
  },
  {
   "cell_type": "code",
   "execution_count": 89,
   "metadata": {},
   "outputs": [],
   "source": [
    "betas_Lasso_test = pd.DataFrame(data=None, columns=['index', 'coefficient'])\n",
    "betas_Lasso_test['index']=res\n",
    "betas_Lasso_test['coefficient']=Lasso_test_betas\n",
    "betas_Lasso_test = betas_Lasso_test.T\n",
    "betas_Lasso_test.columns = betas_Lasso_test.iloc[0]\n",
    "betas_Lasso_test = betas_Lasso_test[1:]\n",
    "betas_Lasso_test.to_csv('betas_Lasso_test.csv')"
   ]
  },
  {
   "cell_type": "code",
   "execution_count": null,
   "metadata": {},
   "outputs": [],
   "source": []
  }
 ],
 "metadata": {
  "kernelspec": {
   "display_name": "Python 3",
   "language": "python",
   "name": "python3"
  },
  "language_info": {
   "codemirror_mode": {
    "name": "ipython",
    "version": 3
   },
   "file_extension": ".py",
   "mimetype": "text/x-python",
   "name": "python",
   "nbconvert_exporter": "python",
   "pygments_lexer": "ipython3",
   "version": "3.7.6"
  }
 },
 "nbformat": 4,
 "nbformat_minor": 4
}
