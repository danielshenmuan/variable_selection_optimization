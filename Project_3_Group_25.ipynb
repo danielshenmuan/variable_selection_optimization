{
 "cells": [
  {
   "cell_type": "code",
   "execution_count": 26,
   "metadata": {},
   "outputs": [],
   "source": [
    "import pandas as pd\n",
    "import numpy as np\n",
    "from scipy.optimize import minimize\n",
    "import gurobipy as gp\n",
    "import matplotlib.pyplot as plt\n",
    "import warnings\n",
    "warnings.filterwarnings(\"ignore\")"
   ]
  },
  {
   "cell_type": "markdown",
   "metadata": {},
   "source": [
    "## Read in the data"
   ]
  },
  {
   "cell_type": "code",
   "execution_count": 49,
   "metadata": {},
   "outputs": [],
   "source": [
    "train = pd.read_csv('training_data.csv')\n",
    "test = pd.read_csv('test_data.csv')"
   ]
  },
  {
   "cell_type": "markdown",
   "metadata": {},
   "source": [
    "### Split the data into independent and target variables"
   ]
  },
  {
   "cell_type": "code",
   "execution_count": 60,
   "metadata": {},
   "outputs": [],
   "source": [
    "X_train = train.iloc[:,1:]\n",
    "y_train = train.iloc[:,0]\n",
    "\n",
    "X_test = test.iloc[:,1:]\n",
    "y_test = test.iloc[:,0]"
   ]
  },
  {
   "cell_type": "markdown",
   "metadata": {},
   "source": [
    "### Select the values for k, Big-M, cross-validation folds and the Gurobi time limit"
   ]
  },
  {
   "cell_type": "code",
   "execution_count": 61,
   "metadata": {},
   "outputs": [],
   "source": [
    "M = 20\n",
    "k = [i for i in range(5,55,5)]\n",
    "limit = 3600\n",
    "folds = 10"
   ]
  },
  {
   "cell_type": "markdown",
   "metadata": {},
   "source": [
    "### Function to minimze Sum of Squared Errors by selecting 'k' optimal features for the model using Gurobi"
   ]
  },
  {
   "cell_type": "code",
   "execution_count": 62,
   "metadata": {},
   "outputs": [],
   "source": [
    "def min_sse(X_train, X_test, y_train, y_test, k):\n",
    "\n",
    "    '''\n",
    "    A function to return the sum of squared errors after predicting on test set, by selecting 'k' optimal independent variables \n",
    "    to predict target variable.\n",
    "    \n",
    "    Parameters:\n",
    "    training, test independent and target variables, number of features 'k' to select in the model\n",
    "    \n",
    "    Returns:\n",
    "    Sum of squared errors for the test set\n",
    "    \n",
    "    '''\n",
    "    \n",
    "    X = X_train.copy()\n",
    "    m = X.shape[1]\n",
    "    X.insert(0, 'X0', np.ones(X_train.shape[0]))\n",
    "    L = np.concatenate((np.array(-2*y_train.T@X),np.array([0]*m)))\n",
    "    \n",
    "    Q = np.zeros(((2*m)+1,(2*m)+1))\n",
    "    Q[0:m+1,0:m+1] = X.T@X\n",
    "    \n",
    "    A = np.zeros((L.shape[0],2*m+1))\n",
    "    b = np.zeros((A.shape[0]))\n",
    "    \n",
    "    for i in range(A.shape[0]): # A.shape[0] = 101  i = 0 to i = 100\n",
    "        if i < m: #X.shape[1] = 51 i = 0 to i = 50\n",
    "            A[i,i+1] = 1 #A[0,1] = 1\n",
    "            A[i,i+m+1] = -M #A[0,0+51] = A[0,51]\n",
    "            A[i+m,i+1] = -1\n",
    "            A[i+m,i+m+1] = -M\n",
    "            b[i] = 0\n",
    "        elif i == (2*m): #A.shape[0] - 1 = 101 - 1 = 100 i=100\n",
    "            A[i,m+1:] = 1\n",
    "            b[i] = k\n",
    "\n",
    "    sense = np.array([\"<\"]*(A.shape[0]))\n",
    "    vtype = ['C']*(m+1) + ['B']*m\n",
    "    lb = [-M]*(m+1) + [0]*m\n",
    "    ub = [M]*(m+1) + [1]*m\n",
    "    \n",
    "    regMod = gp.Model()\n",
    "    regMod_x = regMod.addMVar(len(L),vtype=vtype,lb=lb,ub=ub)\n",
    "    regMod_con = regMod.addMConstrs(A, regMod_x, sense, b)\n",
    "    regMod.setMObjective(Q,L,0,sense=gp.GRB.MINIMIZE)\n",
    "    regMod.Params.OutputFlag = 0\n",
    "    regMod.Params.TimeLimit = limit\n",
    "    regMod.optimize()\n",
    "\n",
    "    beta = regMod_x.x[:m+1]\n",
    "    print(X.columns[beta!=0].values[1:])\n",
    "    \n",
    "    X_test.insert(0,'X0',np.ones(X_test.shape[0]))\n",
    "    print(f'SSE: {np.sum(((X_test @ beta) - y_test)**2)}')\n",
    "    \n",
    "    return np.sum(((X_test @ beta) - y_test)**2)"
   ]
  },
  {
   "cell_type": "markdown",
   "metadata": {},
   "source": [
    "### Cross Validation on the dataset to identify best value of 'k' to pass to the gurobi optimizer"
   ]
  },
  {
   "cell_type": "code",
   "execution_count": 63,
   "metadata": {},
   "outputs": [],
   "source": [
    "def cross_validation_test(X_train, X_test, y_train, y_test):\n",
    "    \n",
    "    '''\n",
    "    A function to return the sum of squared errors for all 'k', along with the best value of k\n",
    "    \n",
    "    Parameters:\n",
    "    training, test independent and target variables\n",
    "    \n",
    "    Returns:\n",
    "    Sum of squared errors for all values of k, best k\n",
    "    '''\n",
    "    \n",
    "    sse = np.zeros((folds, len(k)))\n",
    "\n",
    "    for j in range(len(k)):\n",
    "        print(f'\\nk = {k[j]}:')\n",
    "\n",
    "        idx = np.array([i for i in range(0,X_train.shape[0],1)])\n",
    "        np.random.shuffle(idx)\n",
    "\n",
    "        for i in range(folds):\n",
    "            idx_lb = i*folds\n",
    "            idx_ub = i*folds+folds\n",
    "            X_ts = X_train.iloc[idx[idx_lb:idx_ub]]\n",
    "            y_ts = y_train.iloc[idx[idx_lb:idx_ub]]\n",
    "\n",
    "            mask = np.array([i not in idx[idx_lb:idx_ub] for i in idx], dtype=np.bool)\n",
    "            idx_1 = np.array(idx)\n",
    "            idx_1[mask]\n",
    "            X_tr = X_train.iloc[idx_1[mask]]\n",
    "            y_tr = y_train.iloc[idx_1[mask]]\n",
    "            print(f'ITERATION {i}:')\n",
    "            sse[i][j] = min_sse(X_tr, X_ts, y_tr, y_ts, k[j])\n",
    "\n",
    "        sse_folds = np.mean(sse,axis=0)\n",
    "    \n",
    "    best_k = k[sse_folds.argmin()]\n",
    "    print(best_k)\n",
    "    \n",
    "    return sse, sse_folds, best_k"
   ]
  },
  {
   "cell_type": "code",
   "execution_count": 14,
   "metadata": {},
   "outputs": [
    {
     "name": "stdout",
     "output_type": "stream",
     "text": [
      "\n",
      "k = 5:\n",
      "ITERATION 0:\n",
      "Academic license - for non-commercial use only - expires 2022-08-27\n",
      "Using license file C:\\Users\\ssahi\\gurobi.lic\n",
      "SSE: 11.453052017446396\n",
      "ITERATION 1:\n",
      "SSE: 29.32986848348305\n",
      "ITERATION 2:\n",
      "SSE: 45.064814045402414\n",
      "ITERATION 3:\n",
      "SSE: 25.91111779404988\n",
      "ITERATION 4:\n",
      "SSE: 20.189390545508477\n",
      "ITERATION 5:\n",
      "SSE: 34.083014948929154\n",
      "ITERATION 6:\n",
      "SSE: 41.20519401411768\n",
      "ITERATION 7:\n",
      "SSE: 19.23163891710223\n",
      "ITERATION 8:\n",
      "SSE: 37.29963568253419\n",
      "ITERATION 9:\n",
      "SSE: 41.364274323177426\n",
      "\n",
      "k = 10:\n",
      "ITERATION 0:\n",
      "SSE: 26.36028215269672\n",
      "ITERATION 1:\n",
      "SSE: 11.713023262533952\n",
      "ITERATION 2:\n",
      "SSE: 31.880655691580753\n",
      "ITERATION 3:\n",
      "SSE: 20.42420824558809\n",
      "ITERATION 4:\n",
      "SSE: 38.076709972358366\n",
      "ITERATION 5:\n",
      "SSE: 23.431306037330575\n",
      "ITERATION 6:\n",
      "SSE: 33.190372772265185\n",
      "ITERATION 7:\n",
      "SSE: 17.273786632156146\n",
      "ITERATION 8:\n",
      "SSE: 27.722090925378627\n",
      "ITERATION 9:\n",
      "SSE: 41.49200364775306\n",
      "\n",
      "k = 15:\n",
      "ITERATION 0:\n",
      "SSE: 35.72389394318344\n",
      "ITERATION 1:\n",
      "SSE: 72.861911931339\n",
      "ITERATION 2:\n",
      "SSE: 41.81730220582846\n",
      "ITERATION 3:\n",
      "SSE: 29.199887611638907\n",
      "ITERATION 4:\n",
      "SSE: 37.51896497001235\n",
      "ITERATION 5:\n",
      "SSE: 34.061866374741776\n",
      "ITERATION 6:\n",
      "SSE: 15.948642631841105\n",
      "ITERATION 7:\n",
      "SSE: 14.488651395242748\n",
      "ITERATION 8:\n",
      "SSE: 50.361970388406824\n",
      "ITERATION 9:\n",
      "SSE: 17.06005591620465\n",
      "\n",
      "k = 20:\n",
      "ITERATION 0:\n",
      "SSE: 33.266833826223305\n",
      "ITERATION 1:\n",
      "SSE: 37.0753757353297\n",
      "ITERATION 2:\n",
      "SSE: 26.022301504272747\n",
      "ITERATION 3:\n",
      "SSE: 58.655121501421235\n",
      "ITERATION 4:\n",
      "SSE: 22.10489268279968\n",
      "ITERATION 5:\n",
      "SSE: 40.38821893563403\n",
      "ITERATION 6:\n",
      "SSE: 39.32839221675397\n",
      "ITERATION 7:\n",
      "SSE: 36.40490724764362\n",
      "ITERATION 8:\n",
      "SSE: 30.060665748163007\n",
      "ITERATION 9:\n",
      "SSE: 28.51297809814816\n",
      "\n",
      "k = 25:\n",
      "ITERATION 0:\n",
      "SSE: 15.815909772896521\n",
      "ITERATION 1:\n",
      "SSE: 49.09067244887217\n",
      "ITERATION 2:\n",
      "SSE: 16.724569392940893\n",
      "ITERATION 3:\n",
      "SSE: 53.08124232528401\n",
      "ITERATION 4:\n",
      "SSE: 25.24727083177725\n",
      "ITERATION 5:\n",
      "SSE: 69.78192826432817\n",
      "ITERATION 6:\n",
      "SSE: 22.399436658815397\n",
      "ITERATION 7:\n",
      "SSE: 30.752458367971702\n",
      "ITERATION 8:\n",
      "SSE: 32.610443118857575\n",
      "ITERATION 9:\n",
      "SSE: 13.151004201765396\n",
      "\n",
      "k = 30:\n",
      "ITERATION 0:\n",
      "SSE: 16.858150400229565\n",
      "ITERATION 1:\n",
      "SSE: 51.96450397481442\n",
      "ITERATION 2:\n",
      "SSE: 35.25698905036615\n",
      "ITERATION 3:\n",
      "SSE: 29.978387253986245\n",
      "ITERATION 4:\n",
      "SSE: 34.21807616743315\n",
      "ITERATION 5:\n",
      "SSE: 23.700944247041914\n",
      "ITERATION 6:\n",
      "SSE: 44.68444884639183\n",
      "ITERATION 7:\n",
      "SSE: 47.98944955781371\n",
      "ITERATION 8:\n",
      "SSE: 59.87114424742417\n",
      "ITERATION 9:\n",
      "SSE: 43.38222162731128\n",
      "\n",
      "k = 35:\n",
      "ITERATION 0:\n",
      "SSE: 23.891264631583105\n",
      "ITERATION 1:\n",
      "SSE: 43.34179693393329\n",
      "ITERATION 2:\n",
      "SSE: 48.66452339692943\n",
      "ITERATION 3:\n",
      "SSE: 25.32272989620739\n",
      "ITERATION 4:\n",
      "SSE: 56.5165667962217\n",
      "ITERATION 5:\n",
      "SSE: 30.652191607949472\n",
      "ITERATION 6:\n",
      "SSE: 34.945714565015415\n",
      "ITERATION 7:\n",
      "SSE: 29.652867715494672\n",
      "ITERATION 8:\n",
      "SSE: 38.052855154293134\n",
      "ITERATION 9:\n",
      "SSE: 14.646289805533225\n",
      "\n",
      "k = 40:\n",
      "ITERATION 0:\n",
      "SSE: 61.269426454616124\n",
      "ITERATION 1:\n",
      "SSE: 55.64202354504724\n",
      "ITERATION 2:\n",
      "SSE: 33.11632545754878\n",
      "ITERATION 3:\n",
      "SSE: 16.242238914385315\n",
      "ITERATION 4:\n",
      "SSE: 24.81479248359126\n",
      "ITERATION 5:\n",
      "SSE: 21.602080314851563\n",
      "ITERATION 6:\n",
      "SSE: 21.434874337612108\n",
      "ITERATION 7:\n",
      "SSE: 41.64871269276781\n",
      "ITERATION 8:\n",
      "SSE: 25.80184602397054\n",
      "ITERATION 9:\n",
      "SSE: 15.339388734874115\n",
      "\n",
      "k = 45:\n",
      "ITERATION 0:\n",
      "SSE: 26.964401375277234\n",
      "ITERATION 1:\n",
      "SSE: 39.52216837686056\n",
      "ITERATION 2:\n",
      "SSE: 20.67568566939835\n",
      "ITERATION 3:\n",
      "SSE: 69.22746073391978\n",
      "ITERATION 4:\n",
      "SSE: 48.93227543581356\n",
      "ITERATION 5:\n",
      "SSE: 34.07813272906141\n",
      "ITERATION 6:\n",
      "SSE: 33.780388241110145\n",
      "ITERATION 7:\n",
      "SSE: 50.551589325955156\n",
      "ITERATION 8:\n",
      "SSE: 22.113637974840657\n",
      "ITERATION 9:\n",
      "SSE: 25.19990354645396\n",
      "\n",
      "k = 50:\n",
      "ITERATION 0:\n",
      "SSE: 48.48461332338994\n",
      "ITERATION 1:\n",
      "SSE: 11.774772551610841\n",
      "ITERATION 2:\n",
      "SSE: 27.017854720850707\n",
      "ITERATION 3:\n",
      "SSE: 38.35439821700143\n",
      "ITERATION 4:\n",
      "SSE: 55.788691004859025\n",
      "ITERATION 5:\n",
      "SSE: 53.98149698590519\n",
      "ITERATION 6:\n",
      "SSE: 36.18276109252074\n",
      "ITERATION 7:\n",
      "SSE: 72.0864341582672\n",
      "ITERATION 8:\n",
      "SSE: 38.08827009468662\n",
      "ITERATION 9:\n",
      "SSE: 63.61378156746238\n",
      "10\n"
     ]
    }
   ],
   "source": [
    "sse, sse_folds, best_k = cross_validation_test(X_train, X_test, y_train, y_test)"
   ]
  },
  {
   "cell_type": "code",
   "execution_count": 17,
   "metadata": {},
   "outputs": [],
   "source": [
    "pd.DataFrame(sse, columns=k,index=(range(folds))).to_csv('10foldCV.csv')"
   ]
  },
  {
   "cell_type": "code",
   "execution_count": 76,
   "metadata": {},
   "outputs": [
    {
     "data": {
      "text/plain": [
       "<matplotlib.legend.Legend at 0x204fd917e80>"
      ]
     },
     "execution_count": 76,
     "metadata": {},
     "output_type": "execute_result"
    },
    {
     "data": {
      "image/png": "[encoded data removed]",
      "text/plain": [
       "<Figure size 1440x720 with 1 Axes>"
      ]
     },
     "metadata": {
      "needs_background": "light"
     },
     "output_type": "display_data"
    }
   ],
   "source": [
    "results = pd.read_csv('10foldCV.csv')\n",
    "results.set_index('Unnamed: 0', inplace=True)\n",
    "plt.figure(figsize=(20, 10))\n",
    "np.mean(results,axis=0).plot(kind='line')\n",
    "plt.title('Average SSE of 10 folds for differenet k values', fontsize=20)\n",
    "plt.xlabel('Number of features \\'k\\' to be selected', fontsize=20)\n",
    "plt.ylabel('Sum of squared errors', fontsize=20)\n",
    "plt.legend(['SSE'], prop={'size': 15})"
   ]
  },
  {
   "cell_type": "markdown",
   "metadata": {},
   "source": [
    "### Print the Least SSE and the best k after Cross-validation"
   ]
  },
  {
   "cell_type": "code",
   "execution_count": 100,
   "metadata": {},
   "outputs": [
    {
     "name": "stdout",
     "output_type": "stream",
     "text": [
      "Least SSE:27.15644393396415 for k:10\n"
     ]
    }
   ],
   "source": [
    "print(f'Least SSE:{sse_folds.min()} for k:{best_k}')"
   ]
  },
  {
   "cell_type": "markdown",
   "metadata": {},
   "source": [
    "### Aggregated SSEs for each k value after Cross-validation"
   ]
  },
  {
   "cell_type": "code",
   "execution_count": 101,
   "metadata": {},
   "outputs": [
    {
     "data": {
      "text/html": [
       "<div>\n",
       "<style scoped>\n",
       "    .dataframe tbody tr th:only-of-type {\n",
       "        vertical-align: middle;\n",
       "    }\n",
       "\n",
       "    .dataframe tbody tr th {\n",
       "        vertical-align: top;\n",
       "    }\n",
       "\n",
       "    .dataframe thead th {\n",
       "        text-align: right;\n",
       "    }\n",
       "</style>\n",
       "<table border=\"1\" class=\"dataframe\">\n",
       "  <thead>\n",
       "    <tr style=\"text-align: right;\">\n",
       "      <th></th>\n",
       "      <th>SSE</th>\n",
       "    </tr>\n",
       "  </thead>\n",
       "  <tbody>\n",
       "    <tr>\n",
       "      <th>5</th>\n",
       "      <td>30.513200</td>\n",
       "    </tr>\n",
       "    <tr>\n",
       "      <th>10</th>\n",
       "      <td>27.156444</td>\n",
       "    </tr>\n",
       "    <tr>\n",
       "      <th>15</th>\n",
       "      <td>34.904315</td>\n",
       "    </tr>\n",
       "    <tr>\n",
       "      <th>20</th>\n",
       "      <td>35.181969</td>\n",
       "    </tr>\n",
       "    <tr>\n",
       "      <th>25</th>\n",
       "      <td>32.865494</td>\n",
       "    </tr>\n",
       "    <tr>\n",
       "      <th>30</th>\n",
       "      <td>38.790432</td>\n",
       "    </tr>\n",
       "    <tr>\n",
       "      <th>35</th>\n",
       "      <td>34.568680</td>\n",
       "    </tr>\n",
       "    <tr>\n",
       "      <th>40</th>\n",
       "      <td>31.691171</td>\n",
       "    </tr>\n",
       "    <tr>\n",
       "      <th>45</th>\n",
       "      <td>37.104564</td>\n",
       "    </tr>\n",
       "    <tr>\n",
       "      <th>50</th>\n",
       "      <td>44.537307</td>\n",
       "    </tr>\n",
       "  </tbody>\n",
       "</table>\n",
       "</div>"
      ],
      "text/plain": [
       "          SSE\n",
       "5   30.513200\n",
       "10  27.156444\n",
       "15  34.904315\n",
       "20  35.181969\n",
       "25  32.865494\n",
       "30  38.790432\n",
       "35  34.568680\n",
       "40  31.691171\n",
       "45  37.104564\n",
       "50  44.537307"
      ]
     },
     "execution_count": 101,
     "metadata": {},
     "output_type": "execute_result"
    }
   ],
   "source": [
    "pd.DataFrame(sse_folds, columns=['SSE'], index=k)"
   ]
  },
  {
   "cell_type": "markdown",
   "metadata": {},
   "source": [
    "### Determine the SSE for the best k i.e, k=10"
   ]
  },
  {
   "cell_type": "code",
   "execution_count": 64,
   "metadata": {},
   "outputs": [
    {
     "name": "stdout",
     "output_type": "stream",
     "text": [
      "The features selected:\n",
      "\n",
      "['X9' 'X15' 'X16' 'X23' 'X24' 'X26' 'X34' 'X45' 'X47' 'X48']\n",
      "SSE: 116.8271982276263\n",
      "\n",
      "The SSE for the test set for k=10: 116.8271982276263\n"
     ]
    }
   ],
   "source": [
    "print('The features selected:\\n')\n",
    "sse_opt = min_sse(X_train, X_test, y_train, y_test, 10)\n",
    "print(f'\\nThe SSE for the test set for k=10: {sse_opt}')"
   ]
  },
  {
   "cell_type": "markdown",
   "metadata": {},
   "source": [
    "## Running LassoCV with 10 folds to determine best lambda and the SSE"
   ]
  },
  {
   "cell_type": "code",
   "execution_count": 65,
   "metadata": {},
   "outputs": [
    {
     "name": "stdout",
     "output_type": "stream",
     "text": [
      "The features selected by Lasso:\n",
      "\n",
      "Index(['X9', 'X11', 'X15', 'X16', 'X22', 'X23', 'X24', 'X26', 'X29', 'X33',\n",
      "       'X34', 'X39', 'X44', 'X45', 'X46', 'X47', 'X48'],\n",
      "      dtype='object')\n",
      "Best lambda : 0.07638765995113507\n",
      "SSE for test data predictions is 117.48173795802899\n"
     ]
    }
   ],
   "source": [
    "from sklearn.linear_model import LassoCV\n",
    "\n",
    "reg = LassoCV(cv=10, random_state=0).fit(X_train, y_train)\n",
    "coeffs = reg.coef_\n",
    "print('The features selected by Lasso:\\n')\n",
    "print(X_train.columns[coeffs!=0])\n",
    "\n",
    "print(f'Best lambda : {reg.alpha_}')\n",
    "y_pred = reg.predict(X_test.iloc[:,1:])\n",
    "sse_lasso = np.sum((y_pred - y_test)**2)\n",
    "print(f'SSE for test data predictions is {sse_lasso}')"
   ]
  },
  {
   "cell_type": "code",
   "execution_count": null,
   "metadata": {},
   "outputs": [
    {
     "name": "stdout",
     "output_type": "stream",
     "text": [
      "Predicted Values:\n",
      "\n"
     ]
    },
    {
     "data": {
      "text/plain": [
       "array([ 6.07686351,  4.9181073 ,  3.22777954,  3.57138566, -0.41849943,\n",
       "       -4.94878307, -2.8218873 , -1.49522305,  1.38296395, -0.24746403,\n",
       "       -1.94701631,  2.70749465,  0.64484559, -0.50918617, -0.31915912,\n",
       "        7.37584986, -7.54781954,  3.59673093, -4.39624331, -2.98890566,\n",
       "       -1.94423698,  3.33248953, -2.42122798,  1.13315219, -2.53307168,\n",
       "       -0.15595162, -1.62271875, -2.31420693, -3.46402012, -3.71707635,\n",
       "       -1.66827581, -0.07491137,  1.40363987,  5.45269115, -1.20270399,\n",
       "        2.37325349,  4.74719816,  3.13015173,  1.55100085,  5.85587702,\n",
       "       -0.81232674,  4.66231732, -5.71548761, -1.20927664,  4.25279319,\n",
       "        4.09734242,  3.8335482 ,  0.61787077,  1.89407804, -1.02592954])"
      ]
     },
     "metadata": {},
     "output_type": "display_data"
    }
   ],
   "source": [
    "print('Predicted Values:\\n')\n",
    "y_pred"
   ]
  },
  {
   "cell_type": "code",
   "execution_count": 56,
   "metadata": {},
   "outputs": [
    {
     "name": "stdout",
     "output_type": "stream",
     "text": [
      "Predicted Values:\n",
      "\n"
     ]
    },
    {
     "data": {
      "text/plain": [
       "array([ 6.07686351,  4.9181073 ,  3.22777954,  3.57138566, -0.41849943,\n",
       "       -4.94878307, -2.8218873 , -1.49522305,  1.38296395, -0.24746403,\n",
       "       -1.94701631,  2.70749465,  0.64484559, -0.50918617, -0.31915912,\n",
       "        7.37584986, -7.54781954,  3.59673093, -4.39624331, -2.98890566,\n",
       "       -1.94423698,  3.33248953, -2.42122798,  1.13315219, -2.53307168,\n",
       "       -0.15595162, -1.62271875, -2.31420693, -3.46402012, -3.71707635,\n",
       "       -1.66827581, -0.07491137,  1.40363987,  5.45269115, -1.20270399,\n",
       "        2.37325349,  4.74719816,  3.13015173,  1.55100085,  5.85587702,\n",
       "       -0.81232674,  4.66231732, -5.71548761, -1.20927664,  4.25279319,\n",
       "        4.09734242,  3.8335482 ,  0.61787077,  1.89407804, -1.02592954])"
      ]
     },
     "execution_count": 56,
     "metadata": {},
     "output_type": "execute_result"
    }
   ],
   "source": [
    "print('Predicted Values:\\n')\n",
    "y_pred"
   ]
  },
  {
   "cell_type": "markdown",
   "metadata": {},
   "source": [
    "### Comparing SSE of Optimization and Lasso:"
   ]
  },
  {
   "cell_type": "code",
   "execution_count": 81,
   "metadata": {},
   "outputs": [
    {
     "data": {
      "text/html": [
       "<div>\n",
       "<style scoped>\n",
       "    .dataframe tbody tr th:only-of-type {\n",
       "        vertical-align: middle;\n",
       "    }\n",
       "\n",
       "    .dataframe tbody tr th {\n",
       "        vertical-align: top;\n",
       "    }\n",
       "\n",
       "    .dataframe thead th {\n",
       "        text-align: right;\n",
       "    }\n",
       "</style>\n",
       "<table border=\"1\" class=\"dataframe\">\n",
       "  <thead>\n",
       "    <tr style=\"text-align: right;\">\n",
       "      <th></th>\n",
       "      <th>SSE</th>\n",
       "      <th>k / lambda</th>\n",
       "    </tr>\n",
       "  </thead>\n",
       "  <tbody>\n",
       "    <tr>\n",
       "      <th>Gurobi Optimizer</th>\n",
       "      <td>116.827198</td>\n",
       "      <td>10.000000</td>\n",
       "    </tr>\n",
       "    <tr>\n",
       "      <th>Lasso</th>\n",
       "      <td>117.481738</td>\n",
       "      <td>0.076388</td>\n",
       "    </tr>\n",
       "  </tbody>\n",
       "</table>\n",
       "</div>"
      ],
      "text/plain": [
       "                         SSE  k / lambda\n",
       "Gurobi Optimizer  116.827198   10.000000\n",
       "Lasso             117.481738    0.076388"
      ]
     },
     "execution_count": 81,
     "metadata": {},
     "output_type": "execute_result"
    }
   ],
   "source": [
    "pd.DataFrame([[sse_opt,best_k],[sse_lasso, reg.alpha_]], columns = ['SSE','k / lambda'], index=['Gurobi Optimizer','Lasso'])"
   ]
  },
  {
   "cell_type": "code",
   "execution_count": null,
   "metadata": {},
   "outputs": [],
   "source": []
  }
 ],
 "metadata": {
  "kernelspec": {
   "display_name": "Python 3",
   "language": "python",
   "name": "python3"
  },
  "language_info": {
   "codemirror_mode": {
    "name": "ipython",
    "version": 3
   },
   "file_extension": ".py",
   "mimetype": "text/x-python",
   "name": "python",
   "nbconvert_exporter": "python",
   "pygments_lexer": "ipython3",
   "version": "3.7.6"
  }
 },
 "nbformat": 4,
 "nbformat_minor": 5
}
